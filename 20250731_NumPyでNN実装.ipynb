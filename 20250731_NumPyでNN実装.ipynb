{
  "nbformat": 4,
  "nbformat_minor": 0,
  "metadata": {
    "colab": {
      "provenance": [],
      "authorship_tag": "ABX9TyN3S38++1HC0VSGf7mrDKd2",
      "include_colab_link": true
    },
    "kernelspec": {
      "name": "python3",
      "display_name": "Python 3"
    },
    "language_info": {
      "name": "python"
    }
  },
  "cells": [
    {
      "cell_type": "markdown",
      "metadata": {
        "id": "view-in-github",
        "colab_type": "text"
      },
      "source": [
        "<a href=\"https://colab.research.google.com/github/Gerol-steiner/Knowledge/blob/main/20250731_NumPy%E3%81%A7NN%E5%AE%9F%E8%A3%85.ipynb\" target=\"_parent\"><img src=\"https://colab.research.google.com/assets/colab-badge.svg\" alt=\"Open In Colab\"/></a>"
      ]
    },
    {
      "cell_type": "code",
      "execution_count": 2,
      "metadata": {
        "id": "PQroKoNztSji"
      },
      "outputs": [],
      "source": [
        "import numpy as np"
      ]
    },
    {
      "cell_type": "markdown",
      "source": [
        "# ■ 入力→中間（２→３）"
      ],
      "metadata": {
        "id": "lKjI0hfwPfyr"
      }
    },
    {
      "cell_type": "markdown",
      "source": [
        "## 1. 「重み」の作成"
      ],
      "metadata": {
        "id": "CMyA67JJSIyZ"
      }
    },
    {
      "cell_type": "code",
      "source": [
        "# 2行3列の重み\n",
        "np.random.seed(1)\n",
        "W1 = np.random.randn(2,3) # ノード数「２→３」なので「２x３」行列にすればよい\n",
        "W1"
      ],
      "metadata": {
        "colab": {
          "base_uri": "https://localhost:8080/",
          "height": 0
        },
        "id": "3kCYw5QYOtTD",
        "outputId": "8eeed63c-43ba-4954-bca6-712a126b0aff"
      },
      "execution_count": 3,
      "outputs": [
        {
          "output_type": "execute_result",
          "data": {
            "text/plain": [
              "array([[ 1.62434536, -0.61175641, -0.52817175],\n",
              "       [-1.07296862,  0.86540763, -2.3015387 ]])"
            ]
          },
          "metadata": {},
          "execution_count": 3
        }
      ]
    },
    {
      "cell_type": "markdown",
      "source": [
        "## 2. 「バイアス」の作成"
      ],
      "metadata": {
        "id": "m-yzAgRpSX1R"
      }
    },
    {
      "cell_type": "code",
      "source": [
        "b1 = np.random.randn(3) # サンプル数に関わらず「3（OUT側のノード数）」\n",
        "b1"
      ],
      "metadata": {
        "colab": {
          "base_uri": "https://localhost:8080/",
          "height": 0
        },
        "id": "hqspRPK2PEkG",
        "outputId": "104c6cb9-90f9-4b86-ebda-7296870ce55c"
      },
      "execution_count": 4,
      "outputs": [
        {
          "output_type": "execute_result",
          "data": {
            "text/plain": [
              "array([ 1.74481176, -0.7612069 ,  0.3190391 ])"
            ]
          },
          "metadata": {},
          "execution_count": 4
        }
      ]
    },
    {
      "cell_type": "code",
      "source": [
        "b1.shape"
      ],
      "metadata": {
        "colab": {
          "base_uri": "https://localhost:8080/"
        },
        "id": "Ojtsg4U5Py7i",
        "outputId": "7bff57f9-1e15-497d-dee2-940ca1b90e0a"
      },
      "execution_count": null,
      "outputs": [
        {
          "output_type": "execute_result",
          "data": {
            "text/plain": [
              "(3,)"
            ]
          },
          "metadata": {},
          "execution_count": 4
        }
      ]
    },
    {
      "cell_type": "markdown",
      "source": [
        "## 3. 「入力値」の作成"
      ],
      "metadata": {
        "id": "UZN5B_B_Sggi"
      }
    },
    {
      "cell_type": "code",
      "source": [
        "# サンプル数：10、入力変数：2\n",
        "x = np.random.randn(10,2)\n",
        "x"
      ],
      "metadata": {
        "id": "JQKaGFgqP3xQ",
        "colab": {
          "base_uri": "https://localhost:8080/"
        },
        "outputId": "b7ef8b3c-86ae-4b3a-db74-4be8180ac95a"
      },
      "execution_count": null,
      "outputs": [
        {
          "output_type": "execute_result",
          "data": {
            "text/plain": [
              "array([[-0.24937038,  1.46210794],\n",
              "       [-2.06014071, -0.3224172 ],\n",
              "       [-0.38405435,  1.13376944],\n",
              "       [-1.09989127, -0.17242821],\n",
              "       [-0.87785842,  0.04221375],\n",
              "       [ 0.58281521, -1.10061918],\n",
              "       [ 1.14472371,  0.90159072],\n",
              "       [ 0.50249434,  0.90085595],\n",
              "       [-0.68372786, -0.12289023],\n",
              "       [-0.93576943, -0.26788808]])"
            ]
          },
          "metadata": {},
          "execution_count": 5
        }
      ]
    },
    {
      "cell_type": "code",
      "source": [
        "x.shape"
      ],
      "metadata": {
        "colab": {
          "base_uri": "https://localhost:8080/"
        },
        "id": "AbwvqOYDQSBn",
        "outputId": "a4039763-6563-41e9-ab54-b8c9ee43f89e"
      },
      "execution_count": null,
      "outputs": [
        {
          "output_type": "execute_result",
          "data": {
            "text/plain": [
              "(10, 2)"
            ]
          },
          "metadata": {},
          "execution_count": 6
        }
      ]
    },
    {
      "cell_type": "code",
      "source": [
        "W1.shape"
      ],
      "metadata": {
        "colab": {
          "base_uri": "https://localhost:8080/"
        },
        "id": "-3ODIjTwQlo1",
        "outputId": "56bd1c63-5b13-4a96-f184-676e260c5c5a"
      },
      "execution_count": null,
      "outputs": [
        {
          "output_type": "execute_result",
          "data": {
            "text/plain": [
              "(2, 3)"
            ]
          },
          "metadata": {},
          "execution_count": 7
        }
      ]
    },
    {
      "cell_type": "code",
      "source": [
        "# 線形変換を行う\n",
        "u1 = np.dot(x, W1) + b1    # np.dot() : 行列積\n",
        "u1 # 10サンプル x [u1, u2, u3]"
      ],
      "metadata": {
        "colab": {
          "base_uri": "https://localhost:8080/"
        },
        "id": "zlSsrEqaQ0fA",
        "outputId": "4df9123f-c8c4-45a5-9677-cf02104aa47e"
      },
      "execution_count": null,
      "outputs": [
        {
          "output_type": "execute_result",
          "data": {
            "text/plain": [
              "array([[-0.22904779,  0.65666639, -2.91434851],\n",
              "       [-1.2556247 ,  0.22007508,  2.1492029 ],\n",
              "       [-0.09552418,  0.45491354, -2.08752849],\n",
              "       [ 0.14321854, -0.23756205,  1.29682079],\n",
              "       [ 0.27357249, -0.18763928,  0.68554254],\n",
              "       [ 3.8724348 , -2.07023208,  2.54433019],\n",
              "       [ 2.63685986, -0.68125548, -2.36061756],\n",
              "       [ 1.59444595, -0.28900342, -2.01971905],\n",
              "       [ 0.76605894, -0.44928214,  0.96300145],\n",
              "       [ 0.51223453, -0.42057634,  1.42984086]])"
            ]
          },
          "metadata": {},
          "execution_count": 8
        }
      ]
    },
    {
      "cell_type": "code",
      "source": [
        "u1.shape"
      ],
      "metadata": {
        "colab": {
          "base_uri": "https://localhost:8080/"
        },
        "id": "89Iqb1muRZze",
        "outputId": "634dc7d7-9fe5-48ae-fd8f-92fe3869b241"
      },
      "execution_count": null,
      "outputs": [
        {
          "output_type": "execute_result",
          "data": {
            "text/plain": [
              "(10, 3)"
            ]
          },
          "metadata": {},
          "execution_count": 9
        }
      ]
    },
    {
      "cell_type": "code",
      "source": [
        "# シグモイド関数を作る\n",
        "def sigmoid(x):\n",
        "    return 1/(1+np.exp(-x))"
      ],
      "metadata": {
        "id": "Pj2iQEhpRp3N"
      },
      "execution_count": null,
      "outputs": []
    },
    {
      "cell_type": "code",
      "source": [
        "sigmoid(u1)"
      ],
      "metadata": {
        "colab": {
          "base_uri": "https://localhost:8080/"
        },
        "id": "uA2VBSJGSM3F",
        "outputId": "187ddfde-32e0-4034-8574-85a272afc599"
      },
      "execution_count": null,
      "outputs": [
        {
          "output_type": "execute_result",
          "data": {
            "text/plain": [
              "array([[0.44298709, 0.65851114, 0.05144881],\n",
              "       [0.22172799, 0.55479778, 0.89559427],\n",
              "       [0.4761371 , 0.61180683, 0.11031491],\n",
              "       [0.53574356, 0.44088723, 0.78529944],\n",
              "       [0.56796973, 0.45322733, 0.66497461],\n",
              "       [0.97961649, 0.11202395, 0.92719169],\n",
              "       [0.93319647, 0.33598115, 0.08622552],\n",
              "       [0.8312407 , 0.42824786, 0.11714805],\n",
              "       [0.68266775, 0.38953146, 0.72372234],\n",
              "       [0.62533015, 0.39637885, 0.80687652]])"
            ]
          },
          "metadata": {},
          "execution_count": 11
        }
      ]
    },
    {
      "cell_type": "code",
      "source": [
        "sigmoid(u1).shape"
      ],
      "metadata": {
        "colab": {
          "base_uri": "https://localhost:8080/"
        },
        "id": "bPcOFxbjSQcn",
        "outputId": "8ae3fc36-06fa-44fc-f0cb-99d5ee44d104"
      },
      "execution_count": null,
      "outputs": [
        {
          "output_type": "execute_result",
          "data": {
            "text/plain": [
              "(10, 3)"
            ]
          },
          "metadata": {},
          "execution_count": 12
        }
      ]
    },
    {
      "cell_type": "code",
      "source": [
        "def relu(x):\n",
        "    return np.maximum(0,x)"
      ],
      "metadata": {
        "id": "t2YH1MQzSVhU"
      },
      "execution_count": null,
      "outputs": []
    },
    {
      "cell_type": "code",
      "source": [
        "z1 = relu(u1)\n",
        "z1 # 10サンプル x [z1, z2, z3]"
      ],
      "metadata": {
        "colab": {
          "base_uri": "https://localhost:8080/"
        },
        "id": "EOuZrY0RSnOj",
        "outputId": "edb32d8c-93ca-49d8-ae70-b2fcaeb1ab92"
      },
      "execution_count": null,
      "outputs": [
        {
          "output_type": "execute_result",
          "data": {
            "text/plain": [
              "array([[0.        , 0.65666639, 0.        ],\n",
              "       [0.        , 0.22007508, 2.1492029 ],\n",
              "       [0.        , 0.45491354, 0.        ],\n",
              "       [0.14321854, 0.        , 1.29682079],\n",
              "       [0.27357249, 0.        , 0.68554254],\n",
              "       [3.8724348 , 0.        , 2.54433019],\n",
              "       [2.63685986, 0.        , 0.        ],\n",
              "       [1.59444595, 0.        , 0.        ],\n",
              "       [0.76605894, 0.        , 0.96300145],\n",
              "       [0.51223453, 0.        , 1.42984086]])"
            ]
          },
          "metadata": {},
          "execution_count": 14
        }
      ]
    },
    {
      "cell_type": "markdown",
      "source": [
        "### 中間→出力（３→２）"
      ],
      "metadata": {
        "id": "YZD8nwgDSpYk"
      }
    },
    {
      "cell_type": "code",
      "source": [
        "# 重み\n",
        "W2 = np.random.randn(3,2) # 「重み」は「in (ノード数) ｘ out (ノード数)\n",
        "W2"
      ],
      "metadata": {
        "colab": {
          "base_uri": "https://localhost:8080/"
        },
        "id": "wtLsQtciS87I",
        "outputId": "15727cb1-2531-4707-e787-6402c956870c"
      },
      "execution_count": null,
      "outputs": [
        {
          "output_type": "execute_result",
          "data": {
            "text/plain": [
              "array([[ 0.53035547, -0.69166075],\n",
              "       [-0.39675353, -0.6871727 ],\n",
              "       [-0.84520564, -0.67124613]])"
            ]
          },
          "metadata": {},
          "execution_count": 15
        }
      ]
    },
    {
      "cell_type": "code",
      "source": [
        "b2 = np.random.randn(2) # OUT側のノード数\n",
        "b2"
      ],
      "metadata": {
        "colab": {
          "base_uri": "https://localhost:8080/"
        },
        "id": "PpwhnZBHZIwk",
        "outputId": "f4097925-25d9-41f7-938c-61cbb0936a7e"
      },
      "execution_count": null,
      "outputs": [
        {
          "output_type": "execute_result",
          "data": {
            "text/plain": [
              "array([-0.0126646 , -1.11731035])"
            ]
          },
          "metadata": {},
          "execution_count": 16
        }
      ]
    },
    {
      "cell_type": "code",
      "source": [
        "u2 = np.dot(z1, W2) + b2\n",
        "u2"
      ],
      "metadata": {
        "colab": {
          "base_uri": "https://localhost:8080/"
        },
        "id": "UzkNMfvpbrrM",
        "outputId": "d0dcf650-1206-4ff4-ebbc-596cb88a6ee8"
      },
      "execution_count": null,
      "outputs": [
        {
          "output_type": "execute_result",
          "data": {
            "text/plain": [
              "array([[-0.2731993 , -1.56855356],\n",
              "       [-1.91649858, -2.71118407],\n",
              "       [-0.19315315, -1.42991451],\n",
              "       [-1.03278811, -2.08685493],\n",
              "       [-0.44699836, -1.76669748],\n",
              "       [-0.10937987, -5.50359331],\n",
              "       [ 1.38580844, -2.94112282],\n",
              "       [ 0.83295853, -2.22012603],\n",
              "       [-0.42031531, -2.29357425],\n",
              "       [-0.94950778, -2.43137801]])"
            ]
          },
          "metadata": {},
          "execution_count": 17
        }
      ]
    },
    {
      "cell_type": "code",
      "source": [
        "# ソフトマックス関数\n",
        "def softmax(x):\n",
        "    exp_x = np.exp(x-np.max(x))\n",
        "    return exp_x/np.sum(exp_x)"
      ],
      "metadata": {
        "id": "fmVilirNb7JL"
      },
      "execution_count": null,
      "outputs": []
    },
    {
      "cell_type": "code",
      "source": [
        "a = softmax(u2) # u2の全ての要素を足すと１となってしまっている\n",
        "a"
      ],
      "metadata": {
        "colab": {
          "base_uri": "https://localhost:8080/"
        },
        "id": "Yg7XUbrgcnRe",
        "outputId": "0e476ff4-ec5e-439a-af25-3c548d500e47"
      },
      "execution_count": null,
      "outputs": [
        {
          "output_type": "execute_result",
          "data": {
            "text/plain": [
              "array([[0.06273367, 0.01717653],\n",
              "       [0.012129  , 0.00547895],\n",
              "       [0.06796171, 0.01973084],\n",
              "       [0.0293505 , 0.01022916],\n",
              "       [0.0527255 , 0.01408908],\n",
              "       [0.07390036, 0.00033571],\n",
              "       [0.32960863, 0.00435348],\n",
              "       [0.18962645, 0.00895285],\n",
              "       [0.05415131, 0.00831884],\n",
              "       [0.03189948, 0.00724796]])"
            ]
          },
          "metadata": {},
          "execution_count": 26
        }
      ]
    },
    {
      "cell_type": "markdown",
      "source": [
        "softmax(u2[0]) # u2の１行目の2要素のみにsoftmaxを適用"
      ],
      "metadata": {
        "id": "utvGJ5YkdJ52"
      }
    },
    {
      "cell_type": "code",
      "source": [
        "np.sum(a)"
      ],
      "metadata": {
        "colab": {
          "base_uri": "https://localhost:8080/"
        },
        "id": "9GcFJRs7dLp4",
        "outputId": "958b4b78-ca5c-4dc9-f93b-edb3c863db9f"
      },
      "execution_count": null,
      "outputs": [
        {
          "output_type": "execute_result",
          "data": {
            "text/plain": [
              "np.float64(1.0000000000000002)"
            ]
          },
          "metadata": {},
          "execution_count": 27
        }
      ]
    },
    {
      "cell_type": "code",
      "source": [
        "y = softmax(u2[0]) # u2の１行目の2要素のみにsoftmaxを適用\n",
        "y"
      ],
      "metadata": {
        "colab": {
          "base_uri": "https://localhost:8080/"
        },
        "id": "c0SbkU9WbChR",
        "outputId": "c3dc5973-5401-4889-8c9d-4bb409cc1643"
      },
      "execution_count": null,
      "outputs": [
        {
          "output_type": "execute_result",
          "data": {
            "text/plain": [
              "array([0.78505207, 0.21494793])"
            ]
          },
          "metadata": {},
          "execution_count": 29
        }
      ]
    },
    {
      "cell_type": "code",
      "source": [
        "np.argmax(y)"
      ],
      "metadata": {
        "colab": {
          "base_uri": "https://localhost:8080/"
        },
        "id": "CdGcAQMAbBxC",
        "outputId": "4c93e62c-bade-4ca9-aaa5-e6faff4112b5"
      },
      "execution_count": null,
      "outputs": [
        {
          "output_type": "execute_result",
          "data": {
            "text/plain": [
              "np.int64(0)"
            ]
          },
          "metadata": {},
          "execution_count": 31
        }
      ]
    },
    {
      "cell_type": "code",
      "source": [
        "def softmax(x):\n",
        "    if x.ndim == 2:\n",
        "        x = x-np.max(x, axis=1, keepdims=True)\n",
        "        x = np.exp(x)\n",
        "        x /= np.sum(x, axis=1, keepdims=True)\n",
        "    elif x.ndim == 1:\n",
        "        x = x-np.max(x)\n",
        "        x = np.exp(x)/np.sum(np.exp(x))\n",
        "\n",
        "    return x"
      ],
      "metadata": {
        "id": "76jI_HGjeI1h"
      },
      "execution_count": null,
      "outputs": []
    },
    {
      "cell_type": "code",
      "source": [
        "b = softmax(u2) # u2の全ての要素を足すと１となってしまっている\n",
        "b"
      ],
      "metadata": {
        "colab": {
          "base_uri": "https://localhost:8080/"
        },
        "id": "wWGhldXbdkPs",
        "outputId": "fc93454e-d977-44f9-ec25-839496049c7a"
      },
      "execution_count": null,
      "outputs": [
        {
          "output_type": "execute_result",
          "data": {
            "text/plain": [
              "array([[0.78505207, 0.21494793],\n",
              "       [0.68883651, 0.31116349],\n",
              "       [0.77499978, 0.22500022],\n",
              "       [0.74155508, 0.25844492],\n",
              "       [0.78913164, 0.21086836],\n",
              "       [0.99547775, 0.00452225],\n",
              "       [0.98696416, 0.01303584],\n",
              "       [0.95491551, 0.04508449],\n",
              "       [0.86683491, 0.13316509],\n",
              "       [0.8148549 , 0.1851451 ]])"
            ]
          },
          "metadata": {},
          "execution_count": 45
        }
      ]
    }
  ]
}